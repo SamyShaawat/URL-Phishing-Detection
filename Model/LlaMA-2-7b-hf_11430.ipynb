{
 "cells": [
  {
   "cell_type": "markdown",
   "metadata": {},
   "source": [
    "### Import Libraries\n"
   ]
  },
  {
   "cell_type": "code",
   "execution_count": 1,
   "metadata": {},
   "outputs": [],
   "source": [
    "import os\n",
    "import pandas as pd\n",
    "import torch\n",
    "import torch.optim as optim\n",
    "from sklearn.model_selection import train_test_split\n",
    "from sklearn.preprocessing import StandardScaler\n",
    "from torch.utils.data import TensorDataset, DataLoader\n",
    "from torch.nn.utils.rnn import pad_sequence\n",
    "from transformers import (\n",
    "    AutoModelForSequenceClassification,\n",
    "    AutoTokenizer,\n",
    "    AdamW,\n",
    "    get_linear_schedule_with_warmup\n",
    ")\n",
    "\n",
    "from tqdm import tqdm\n",
    "from sklearn.metrics import accuracy_score, precision_recall_fscore_support\n",
    "import matplotlib.pyplot as plt"
   ]
  },
  {
   "cell_type": "markdown",
   "metadata": {},
   "source": [
    "### Model and Tokenizer Setup\n"
   ]
  },
  {
   "cell_type": "code",
   "execution_count": 2,
   "metadata": {},
   "outputs": [
    {
     "data": {
      "application/vnd.jupyter.widget-view+json": {
       "model_id": "59a08e3e8aa742d1a87fbfb4ddaae419",
       "version_major": 2,
       "version_minor": 0
      },
      "text/plain": [
       "Loading checkpoint shards:   0%|          | 0/2 [00:00<?, ?it/s]"
      ]
     },
     "metadata": {},
     "output_type": "display_data"
    },
    {
     "name": "stderr",
     "output_type": "stream",
     "text": [
      "Some weights of LlamaForSequenceClassification were not initialized from the model checkpoint at meta-llama/Llama-2-7b-hf and are newly initialized: ['score.weight']\n",
      "You should probably TRAIN this model on a down-stream task to be able to use it for predictions and inference.\n"
     ]
    }
   ],
   "source": [
    "# Load the model and tokenizer\n",
    "model = AutoModelForSequenceClassification.from_pretrained(\n",
    "    \"meta-llama/Llama-2-7b-hf\", num_labels=2\n",
    ")\n",
    "tokenizer = AutoTokenizer.from_pretrained(\"meta-llama/Llama-2-7b-hf\")\n",
    "\n",
    "# Check if the tokenizer has a padding token, if not, set one\n",
    "if tokenizer.pad_token is None:\n",
    "    tokenizer.pad_token = tokenizer.eos_token\n",
    "model.config.pad_token_id = tokenizer.pad_token_id"
   ]
  },
  {
   "cell_type": "markdown",
   "metadata": {},
   "source": [
    "### Load and Preprocess the Dataset\n"
   ]
  },
  {
   "cell_type": "code",
   "execution_count": 3,
   "metadata": {},
   "outputs": [],
   "source": [
    "# Load the dataset\n",
    "data = pd.read_csv(\"../Datasets/dataset_11430.csv\")\n",
    "\n",
    "# Separate features\n",
    "text_data = data[\"url\"]\n",
    "scaler = StandardScaler()\n",
    "\n",
    "\n",
    "# Tokenize text data\n",
    "max_length = 128\n",
    "tokenized_data = tokenizer(\n",
    "    text_data.tolist(),\n",
    "    padding=\"max_length\",\n",
    "    truncation=True,\n",
    "    max_length=max_length,\n",
    "    return_tensors=\"pt\",\n",
    ")\n",
    "X_text = tokenized_data[\"input_ids\"]\n",
    "\n",
    "# Labels\n",
    "y = data[\"label\"].apply(lambda x: 1 if x == \"bad\" else 0)\n",
    "\n",
    "# Split dataset\n",
    "X_train_text, X_test_text, y_train, y_test = train_test_split(\n",
    "    X_text, y, test_size=0.2, random_state=42\n",
    ")"
   ]
  },
  {
   "cell_type": "markdown",
   "metadata": {},
   "source": [
    "### Dataset and DataLoader Setup\n"
   ]
  },
  {
   "cell_type": "code",
   "execution_count": 4,
   "metadata": {},
   "outputs": [],
   "source": [
    "# Create TensorDatasets\n",
    "train_dataset = TensorDataset(\n",
    "    X_train_text, torch.tensor(y_train.values, dtype=torch.long)\n",
    ")\n",
    "test_dataset = TensorDataset(X_test_text, torch.tensor(y_test.values, dtype=torch.long))\n",
    "\n",
    "\n",
    "# Define collate function\n",
    "def collate_batch(batch):\n",
    "    texts, labels = zip(*batch)\n",
    "    texts = pad_sequence(texts, batch_first=True, padding_value=tokenizer.pad_token_id)\n",
    "    labels = torch.tensor(labels)\n",
    "    return texts, labels\n",
    "\n",
    "\n",
    "# DataLoader and training setup\n",
    "batch_size = 16\n",
    "train_loader = DataLoader(\n",
    "    train_dataset, batch_size=batch_size, shuffle=True, collate_fn=collate_batch\n",
    ")\n",
    "test_loader = DataLoader(test_dataset, batch_size=batch_size)"
   ]
  },
  {
   "cell_type": "markdown",
   "metadata": {},
   "source": [
    "### Training Setup\n"
   ]
  },
  {
   "cell_type": "code",
   "execution_count": 5,
   "metadata": {},
   "outputs": [],
   "source": [
    "# Training settings\n",
    "device = torch.device(\"cpu\")\n",
    "model.to(device)\n",
    "optimizer = optim.AdamW(model.parameters(), lr=5e-5)\n",
    "epochs = 6\n",
    "scheduler = get_linear_schedule_with_warmup(\n",
    "    optimizer, num_warmup_steps=0, num_training_steps=len(train_loader) * epochs\n",
    ")"
   ]
  },
  {
   "cell_type": "code",
   "execution_count": 6,
   "metadata": {},
   "outputs": [],
   "source": [
    "# Paths for saving model, tokenizer, and checkpoint\n",
    "model_save_path = \"../Model/savedModels/savedModel_11430\"\n",
    "tokenizer_save_path = \"../Model/savedTokenizers/savedTokenizer_11430\"\n",
    "checkpoint_path = \"../Model/savedCheckPoints/checkpoint_11430.pth\"\n",
    "losses_csv_file = \"../Model/savedLosses/losses_11430.csv\""
   ]
  },
  {
   "cell_type": "markdown",
   "metadata": {},
   "source": [
    "### Save and Load Checkpoint Functions\n"
   ]
  },
  {
   "cell_type": "code",
   "execution_count": 7,
   "metadata": {},
   "outputs": [
    {
     "name": "stdout",
     "output_type": "stream",
     "text": [
      "Checkpoint loaded from ../Model/savedCheckPoints/checkpoint_11430.pth\n"
     ]
    }
   ],
   "source": [
    "# Function to save a checkpoint\n",
    "def save_checkpoint(epoch, model, optimizer, scheduler, training_loss, testing_loss):\n",
    "    checkpoint = {\n",
    "        \"epoch\": epoch,\n",
    "        \"model_state_dict\": model.state_dict(),\n",
    "        \"optimizer_state_dict\": optimizer.state_dict(),\n",
    "        \"scheduler_state_dict\": scheduler.state_dict(),\n",
    "        \"Training_loss\": training_loss,\n",
    "        \"Testing_loss\": testing_loss,\n",
    "    }\n",
    "    torch.save(checkpoint, checkpoint_path)\n",
    "    print(f\"Checkpoint saved at {checkpoint_path}\")\n",
    "\n",
    "    model.save_pretrained(model_save_path)\n",
    "    print(f\"Model saved at {model_save_path}\")\n",
    "\n",
    "    tokenizer.save_pretrained(tokenizer_save_path)\n",
    "    print(f\"Tokenizer saved at {tokenizer_save_path}\")\n",
    "\n",
    "\n",
    "# Function to load a checkpoint\n",
    "def load_checkpoint(model, optimizer, scheduler):\n",
    "    if os.path.isfile(checkpoint_path):\n",
    "        checkpoint = torch.load(checkpoint_path)\n",
    "        model.load_state_dict(checkpoint[\"model_state_dict\"])\n",
    "        optimizer.load_state_dict(checkpoint[\"optimizer_state_dict\"])\n",
    "        scheduler.load_state_dict(checkpoint[\"scheduler_state_dict\"])\n",
    "        print(f\"Checkpoint loaded from {checkpoint_path}\")\n",
    "\n",
    "        training_loss = checkpoint.get(\"Training_loss\", None)\n",
    "        testing_loss = checkpoint.get(\"Testing_loss\", None)\n",
    "\n",
    "        return checkpoint[\"epoch\"], training_loss, testing_loss\n",
    "    else:\n",
    "        print(\"No checkpoint found.\")\n",
    "        return 0, None\n",
    "\n",
    "\n",
    "def append_loss_to_csv(epoch, train_loss, test_loss, file_path):\n",
    "    # Create a DataFrame for the current epoch's data\n",
    "    df = pd.DataFrame(\n",
    "        {\"Epoch\": [epoch], \"Train_Loss\": [train_loss], \"Test_Loss\": [test_loss]}\n",
    "    )\n",
    "\n",
    "    # Append to the CSV file\n",
    "    # If the file doesn't exist, it creates it with headers\n",
    "    # If it does, it appends without writing the header\n",
    "    with open(file_path, \"a\") as f:\n",
    "        df.to_csv(f, header=f.tell() == 0, index=False)\n",
    "\n",
    "\n",
    "# Load checkpoint if available\n",
    "\n",
    "start_epoch, training_loss, testing_loss = load_checkpoint(model, optimizer, scheduler)"
   ]
  },
  {
   "cell_type": "markdown",
   "metadata": {},
   "source": [
    "### Training Loop\n"
   ]
  },
  {
   "cell_type": "code",
   "execution_count": 8,
   "metadata": {},
   "outputs": [
    {
     "name": "stderr",
     "output_type": "stream",
     "text": [
      "Epoch 5/6: 100%|██████████| 572/572 [14:19:42<00:00, 90.18s/it, loss=0.00697]  \n",
      "                                                             \r"
     ]
    },
    {
     "name": "stdout",
     "output_type": "stream",
     "text": [
      "Epoch [5/6], Train Loss: 0.0070, Test Loss: 0.2580\n",
      "Checkpoint saved at ../Model/savedCheckPoints/checkpoint_11430.pth\n",
      "Model saved at ../Model/savedModels/savedModel_11430\n",
      "Tokenizer saved at ../Model/savedTokenizers/savedTokenizer_11430\n"
     ]
    },
    {
     "name": "stderr",
     "output_type": "stream",
     "text": [
      "Epoch 6/6: 100%|██████████| 572/572 [13:41:12<00:00, 86.14s/it, loss=0.00153]   \n",
      "                                                             \r"
     ]
    },
    {
     "name": "stdout",
     "output_type": "stream",
     "text": [
      "Epoch [6/6], Train Loss: 0.0015, Test Loss: 0.3176\n",
      "Checkpoint saved at ../Model/savedCheckPoints/checkpoint_11430.pth\n",
      "Model saved at ../Model/savedModels/savedModel_11430\n",
      "Tokenizer saved at ../Model/savedTokenizers/savedTokenizer_11430\n"
     ]
    }
   ],
   "source": [
    "train_losses = []\n",
    "test_losses = []\n",
    "\n",
    "# Append previous losses if resuming from a checkpoint\n",
    "if training_loss is not None and testing_loss is not None:\n",
    "    train_losses.append(training_loss)\n",
    "    test_losses.append(testing_loss)\n",
    "# training loop\n",
    "for epoch in range(start_epoch, epochs):\n",
    "    model.train()\n",
    "    total_train_loss = 0\n",
    "    progress_bar = tqdm(\n",
    "        enumerate(train_loader),\n",
    "        total=len(train_loader),\n",
    "        desc=f\"Epoch {epoch + 1}/{epochs}\",\n",
    "    )\n",
    "\n",
    "    for step, (texts, labels) in progress_bar:\n",
    "        texts = texts.to(device)\n",
    "        labels = labels.to(device)\n",
    "\n",
    "        model.zero_grad()\n",
    "        outputs = model(texts, labels=labels)\n",
    "        loss = outputs.loss\n",
    "        loss.backward()\n",
    "        optimizer.step()\n",
    "        scheduler.step()\n",
    "\n",
    "        total_train_loss += loss.item()\n",
    "        progress_bar.set_postfix({\"loss\": total_train_loss / (step + 1)})\n",
    "\n",
    "    average_train_loss = total_train_loss / len(train_loader)\n",
    "    train_losses.append(average_train_loss)\n",
    "\n",
    "    # validation loop\n",
    "    model.eval()\n",
    "    total_test_loss = 0\n",
    "\n",
    "    with torch.no_grad():\n",
    "        for texts, labels in tqdm(test_loader, desc=\"Evaluating\", leave=False):\n",
    "            labels = labels.to(device)\n",
    "\n",
    "            outputs = model(texts, labels=labels)\n",
    "            loss = outputs.loss\n",
    "            total_test_loss += loss.item()\n",
    "\n",
    "    average_test_loss = total_test_loss / len(test_loader)\n",
    "    test_losses.append(average_test_loss)\n",
    "    # Append losses to CSV, print them, and save the checkpoint\n",
    "    append_loss_to_csv(\n",
    "        epoch + 1, average_train_loss, average_test_loss, losses_csv_file\n",
    "    )\n",
    "    print(\n",
    "        f\"Epoch [{epoch+1}/{epochs}], Train Loss: {average_train_loss:.4f}, Test Loss: {average_test_loss:.4f}\"\n",
    "    )\n",
    "    save_checkpoint(\n",
    "        epoch + 1, model, optimizer, scheduler, average_train_loss, average_test_loss\n",
    "    )"
   ]
  },
  {
   "cell_type": "code",
   "execution_count": 9,
   "metadata": {},
   "outputs": [
    {
     "data": {
      "image/png": "[encoded data removed]",
      "text/plain": [
       "<Figure size 640x480 with 1 Axes>"
      ]
     },
     "metadata": {},
     "output_type": "display_data"
    }
   ],
   "source": [
    "# Plotting training and validation losses\n",
    "plt.plot(train_losses, label=\"Training Loss\")\n",
    "plt.plot(test_losses, label=\"Test Loss\")\n",
    "plt.title(\"Training vs Test Loss\")\n",
    "plt.xlabel(\"Epochs\")\n",
    "plt.ylabel(\"Loss\")\n",
    "plt.legend()\n",
    "plt.show()"
   ]
  },
  {
   "cell_type": "markdown",
   "metadata": {},
   "source": [
    "### Evaluation Loop\n"
   ]
  },
  {
   "cell_type": "code",
   "execution_count": 10,
   "metadata": {},
   "outputs": [
    {
     "name": "stderr",
     "output_type": "stream",
     "text": [
      "                                                             "
     ]
    },
    {
     "name": "stdout",
     "output_type": "stream",
     "text": [
      "Test Accuracy: 0.9458\n",
      "Precision: 0.9515\n",
      "Recall: 0.9398\n",
      "F1 Score: 0.9456\n",
      "   Accuracy  Precision    Recall  F1 Score\n",
      "0  0.945757   0.951456  0.939843  0.945614\n"
     ]
    },
    {
     "name": "stderr",
     "output_type": "stream",
     "text": [
      "\r"
     ]
    }
   ],
   "source": [
    "model.eval()\n",
    "predictions = []\n",
    "true_labels = []\n",
    "with torch.no_grad():\n",
    "    for texts, labels in tqdm(test_loader, desc=\"Evaluating\", leave=False):\n",
    "        texts = texts.to(device)\n",
    "        labels = labels.to(device)\n",
    "        outputs = model(texts, labels=labels)\n",
    "        logits = outputs.logits\n",
    "        _, predicted_labels = torch.max(logits, dim=1)\n",
    "        predictions.extend(predicted_labels.cpu().numpy())\n",
    "        true_labels.extend(labels.cpu().numpy())\n",
    "    accuracy = accuracy_score(true_labels, predictions)\n",
    "    precision, recall, f1, _ = precision_recall_fscore_support(\n",
    "        true_labels, predictions, average=\"binary\"\n",
    "    )\n",
    "    print(f\"Test Accuracy: {accuracy:.4f}\")\n",
    "    print(f\"Precision: {precision:.4f}\")\n",
    "    print(f\"Recall: {recall:.4f}\")\n",
    "    print(f\"F1 Score: {f1:.4f}\")\n",
    "metrics_df = pd.DataFrame(\n",
    "    [[accuracy, precision, recall, f1]],\n",
    "    columns=[\"Accuracy\", \"Precision\", \"Recall\", \"F1 Score\"],\n",
    ")\n",
    "print(metrics_df)\n",
    "metrics_df.to_csv(\"../Model/Metrices/Evaluation_dataset_11430.csv\", index=False)"
   ]
  }
 ],
 "metadata": {
  "kernelspec": {
   "display_name": "Python 3",
   "language": "python",
   "name": "python3"
  },
  "language_info": {
   "codemirror_mode": {
    "name": "ipython",
    "version": 3
   },
   "file_extension": ".py",
   "mimetype": "text/x-python",
   "name": "python",
   "nbconvert_exporter": "python",
   "pygments_lexer": "ipython3",
   "version": "3.11.7"
  }
 },
 "nbformat": 4,
 "nbformat_minor": 2
}
