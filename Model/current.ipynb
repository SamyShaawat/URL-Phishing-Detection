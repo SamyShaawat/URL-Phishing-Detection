{
 "cells": [
  {
   "cell_type": "markdown",
   "metadata": {},
   "source": [
    "### Import Libraries"
   ]
  },
  {
   "cell_type": "code",
   "execution_count": null,
   "metadata": {},
   "outputs": [],
   "source": [
    "import os\n",
    "import pandas as pd\n",
    "import torch\n",
    "import torch.optim as optim\n",
    "from sklearn.model_selection import train_test_split\n",
    "from sklearn.preprocessing import StandardScaler\n",
    "from torch.utils.data import TensorDataset, DataLoader\n",
    "from torch.nn.utils.rnn import pad_sequence\n",
    "from transformers import (\n",
    "    AutoModelForSequenceClassification,\n",
    "    AutoTokenizer,\n",
    "    AdamW,\n",
    "    get_linear_schedule_with_warmup,\n",
    ")\n",
    "from tqdm import tqdm\n",
    "from sklearn.metrics import accuracy_score, precision_recall_fscore_support\n",
    "import matplotlib.pyplot as plt"
   ]
  },
  {
   "cell_type": "markdown",
   "metadata": {},
   "source": [
    "### Model and Tokenizer Setup"
   ]
  },
  {
   "cell_type": "code",
   "execution_count": null,
   "metadata": {},
   "outputs": [],
   "source": [
    "# Load the model and tokenizer\n",
    "model = AutoModelForSequenceClassification.from_pretrained(\"meta-llama/Llama-2-7b-hf\", num_labels=2)\n",
    "tokenizer = AutoTokenizer.from_pretrained(\"meta-llama/Llama-2-7b-hf\")\n",
    "\n",
    "# Check if the tokenizer has a padding token, if not, set one\n",
    "if tokenizer.pad_token is None:\n",
    "    tokenizer.pad_token = tokenizer.eos_token\n",
    "model.config.pad_token_id = tokenizer.pad_token_id\n"
   ]
  },
  {
   "cell_type": "markdown",
   "metadata": {},
   "source": [
    "### Load and Preprocess the Dataset"
   ]
  },
  {
   "cell_type": "code",
   "execution_count": null,
   "metadata": {},
   "outputs": [],
   "source": [
    "# Load the dataset\n",
    "data = pd.read_csv(\"../Datasets/dataset_11430.csv\")\n",
    "\n",
    "# Separate features\n",
    "text_data = data[\"url\"]\n",
    "scaler = StandardScaler()\n",
    "\n",
    "\n",
    "# Tokenize text data\n",
    "max_length = 128\n",
    "tokenized_data = tokenizer(text_data.tolist(), padding=\"max_length\", truncation=True, max_length=max_length, return_tensors=\"pt\")\n",
    "X_text = tokenized_data[\"input_ids\"]\n",
    "\n",
    "# Labels\n",
    "y = data[\"label\"].apply(lambda x: 1 if x == \"bad\" else 0)\n",
    "\n",
    "# Split dataset\n",
    "X_train_text, X_test_text, y_train, y_test = train_test_split(X_text, y, test_size=0.2, random_state=42)"
   ]
  },
  {
   "cell_type": "markdown",
   "metadata": {},
   "source": [
    "### Dataset and DataLoader Setup"
   ]
  },
  {
   "cell_type": "code",
   "execution_count": null,
   "metadata": {},
   "outputs": [],
   "source": [
    "# Create TensorDatasets\n",
    "train_dataset = TensorDataset(X_train_text,  torch.tensor(y_train.values, dtype=torch.long))\n",
    "test_dataset = TensorDataset(X_test_text, torch.tensor(y_test.values, dtype=torch.long))\n",
    "\n",
    "# Define collate function\n",
    "def collate_batch(batch):\n",
    "    texts,labels = zip(*batch)\n",
    "    texts = pad_sequence(texts, batch_first=True, padding_value=tokenizer.pad_token_id)\n",
    "    labels = torch.tensor(labels)\n",
    "    return texts, labels\n",
    "\n",
    "# DataLoader and training setup\n",
    "batch_size = 16\n",
    "train_loader = DataLoader(train_dataset, batch_size=batch_size, shuffle=True, collate_fn=collate_batch)\n",
    "test_loader = DataLoader(test_dataset, batch_size=batch_size)\n"
   ]
  },
  {
   "cell_type": "markdown",
   "metadata": {},
   "source": [
    "### Training Setup"
   ]
  },
  {
   "cell_type": "code",
   "execution_count": null,
   "metadata": {},
   "outputs": [],
   "source": [
    "# Training settings\n",
    "device = torch.device(\"cpu\")\n",
    "model.to(device)\n",
    "optimizer = optim.AdamW(model.parameters(), lr=5e-5)\n",
    "epochs = 6\n",
    "scheduler = get_linear_schedule_with_warmup(optimizer, num_warmup_steps=0, num_training_steps=len(train_loader) * epochs)\n",
    "\n"
   ]
  },
  {
   "cell_type": "code",
   "execution_count": null,
   "metadata": {},
   "outputs": [],
   "source": [
    "# Paths for saving model, tokenizer, and checkpoint\n",
    "model_save_path = \"../Model/savedModels/savedModel_11430\"\n",
    "tokenizer_save_path = \"../Model/savedTokenizers/savedModel_11430\"\n",
    "checkpoint_path = \"../Model/savedCheckPoints/checkpoint_11430.pth\"\n",
    "losses_csv_file = '../Model/savedLosses/losses_11430.csv'"
   ]
  },
  {
   "cell_type": "markdown",
   "metadata": {},
   "source": [
    "### Save and Load Checkpoint Functions"
   ]
  },
  {
   "cell_type": "code",
   "execution_count": null,
   "metadata": {},
   "outputs": [],
   "source": [
    "# Function to save a checkpoint\n",
    "def save_checkpoint(epoch, model, optimizer, scheduler, loss):\n",
    "    checkpoint = {\n",
    "        'epoch': epoch,\n",
    "        'model_state_dict': model.state_dict(),\n",
    "        'optimizer_state_dict': optimizer.state_dict(),\n",
    "        'scheduler_state_dict': scheduler.state_dict(),\n",
    "        'loss': loss  # Include the loss value here\n",
    "    }\n",
    "    torch.save(checkpoint, checkpoint_path)\n",
    "    model.save_pretrained(model_save_path)\n",
    "    tokenizer.save_pretrained(tokenizer_save_path)\n",
    "\n",
    "\n",
    "# Function to load a checkpoint\n",
    "def load_checkpoint(model, optimizer, scheduler):\n",
    "    if os.path.isfile(checkpoint_path):\n",
    "        checkpoint = torch.load(checkpoint_path)\n",
    "        model.load_state_dict(checkpoint['model_state_dict'])\n",
    "        optimizer.load_state_dict(checkpoint['optimizer_state_dict'])\n",
    "        scheduler.load_state_dict(checkpoint['scheduler_state_dict'])\n",
    "        loss = checkpoint.get('loss', None)  # Retrieve the loss if available\n",
    "        return checkpoint['epoch'], loss\n",
    "    else:\n",
    "        return 0, None\n",
    "def append_loss_to_csv(epoch, train_loss, test_loss, file_path):\n",
    "    # Create a DataFrame for the current epoch's data\n",
    "    df = pd.DataFrame({'Epoch': [epoch], 'Train_Loss': [train_loss], 'Test_Loss': [test_loss]})\n",
    "    \n",
    "    # Append to the CSV file\n",
    "    # If the file doesn't exist, it creates it with headers\n",
    "    # If it does, it appends without writing the header\n",
    "    with open(file_path, 'a') as f:\n",
    "        df.to_csv(f, header=f.tell() == 0, index=False)\n",
    "\n",
    "# Load checkpoint if available\n",
    "start_epoch = load_checkpoint(model, optimizer, scheduler)"
   ]
  },
  {
   "cell_type": "markdown",
   "metadata": {},
   "source": [
    "### Training Loop"
   ]
  },
  {
   "cell_type": "code",
   "execution_count": null,
   "metadata": {},
   "outputs": [],
   "source": [
    "train_losses = []\n",
    "test_losses = []\n",
    "# training loop\n",
    "for epoch in range(start_epoch, epochs):\n",
    "    model.train()\n",
    "    total_train_loss = 0\n",
    "    progress_bar = tqdm(\n",
    "        enumerate(train_loader),\n",
    "        total=len(train_loader),\n",
    "        desc=f\"Epoch {epoch + 1}/{epochs}\",\n",
    "    )\n",
    "\n",
    "    for step, (texts, labels) in progress_bar:\n",
    "        texts = texts.to(device)\n",
    "        labels = labels.to(device)\n",
    "\n",
    "        model.zero_grad()\n",
    "        outputs = model(texts, labels=labels)\n",
    "        loss = outputs.loss\n",
    "        loss.backward()\n",
    "        optimizer.step()\n",
    "        scheduler.step()\n",
    "\n",
    "        total_train_loss += loss.item()\n",
    "        progress_bar.set_postfix({\"loss\": total_train_loss / (step + 1)})\n",
    "\n",
    "    average_train_loss = total_train_loss / len(train_loader)\n",
    "    train_losses.append(average_train_loss)\n",
    "   \n",
    "    #validation loop \n",
    "    model.eval()\n",
    "    total_test_loss = 0\n",
    "\n",
    "    with torch.no_grad():\n",
    "        for texts, labels in tqdm(test_loader, desc=\"Evaluating\", leave=False):\n",
    "            labels = labels.to(device)\n",
    "\n",
    "            outputs = model(texts, labels=labels)\n",
    "            loss = outputs.loss\n",
    "            total_test_loss += loss.item()\n",
    "\n",
    "    average_test_loss = total_test_loss / len(test_loader)\n",
    "    test_losses.append(average_test_loss)\n",
    "\n",
    "    append_loss_to_csv(epoch + 1, average_train_loss, average_test_loss, losses_csv_file)\n",
    "    print(f'Epoch [{epoch+1}/{epochs}], Train Loss: {average_train_loss:.4f}, Test Loss: {average_test_loss:.4f}')\n",
    "    save_checkpoint(epoch + 1, model, optimizer, scheduler, average_train_loss)"
   ]
  },
  {
   "cell_type": "code",
   "execution_count": null,
   "metadata": {},
   "outputs": [],
   "source": [
    "# Plotting training and validation losses\n",
    "plt.plot(train_losses, label='Training Loss')\n",
    "plt.plot(test_losses, label='Test Loss')\n",
    "plt.title('Training vs Test Loss')\n",
    "plt.xlabel('Epochs')\n",
    "plt.ylabel('Loss')\n",
    "plt.legend()\n",
    "plt.show()"
   ]
  },
  {
   "cell_type": "markdown",
   "metadata": {},
   "source": [
    "### Evaluation Loop"
   ]
  },
  {
   "cell_type": "code",
   "execution_count": null,
   "metadata": {},
   "outputs": [],
   "source": [
    "model.eval()\n",
    "predictions = []\n",
    "true_labels = []\n",
    "with torch.no_grad():\n",
    "    for texts, labels in tqdm(test_loader, desc=\"Evaluating\", leave=False):\n",
    "        texts = texts.to(device)\n",
    "        labels = labels.to(device)\n",
    "        outputs = model(texts, labels=labels)\n",
    "        logits = outputs.logits\n",
    "        _, predicted_labels = torch.max(logits, dim=1)\n",
    "        predictions.extend(predicted_labels.cpu().numpy())\n",
    "        true_labels.extend(labels.cpu().numpy())\n",
    "    accuracy = accuracy_score(true_labels, predictions)\n",
    "    precision, recall, f1, _ = precision_recall_fscore_support(\n",
    "        true_labels, predictions, average=\"binary\"\n",
    "    )\n",
    "    print(f\"Test Accuracy: {accuracy:.4f}\")\n",
    "    print(f\"Precision: {precision:.4f}\")\n",
    "    print(f\"Recall: {recall:.4f}\")\n",
    "    print(f\"F1 Score: {f1:.4f}\")\n",
    "metrics_df = pd.DataFrame(\n",
    "\n",
    "        [[accuracy, precision, recall, f1]],\n",
    "\n",
    "        columns=[\"Accuracy\", \"Precision\", \"Recall\", \"F1 Score\"],\n",
    "    )\n",
    "print(metrics_df)\n",
    "metrics_df.to_csv(\"../Model/Metrices/Evaluation_dataset_11430.csv\", index=False)"
   ]
  }
 ],
 "metadata": {
  "kernelspec": {
   "display_name": "Python 3",
   "language": "python",
   "name": "python3"
  },
  "language_info": {
   "codemirror_mode": {
    "name": "ipython",
    "version": 3
   },
   "file_extension": ".py",
   "mimetype": "text/x-python",
   "name": "python",
   "nbconvert_exporter": "python",
   "pygments_lexer": "ipython3",
   "version": "3.11.7"
  }
 },
 "nbformat": 4,
 "nbformat_minor": 2
}
