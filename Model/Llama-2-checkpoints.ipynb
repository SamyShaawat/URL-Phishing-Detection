{
 "cells": [
  {
   "cell_type": "markdown",
   "metadata": {},
   "source": [
    "### Import Libraries"
   ]
  },
  {
   "cell_type": "code",
   "execution_count": 1,
   "metadata": {},
   "outputs": [],
   "source": [
    "import os\n",
    "import pandas as pd\n",
    "import torch\n",
    "import torch.optim as optim\n",
    "from sklearn.model_selection import train_test_split\n",
    "from sklearn.preprocessing import StandardScaler\n",
    "from torch.utils.data import TensorDataset, DataLoader\n",
    "from torch.nn.utils.rnn import pad_sequence\n",
    "from transformers import (\n",
    "    AutoModelForSequenceClassification,\n",
    "    AutoTokenizer,\n",
    "    AdamW,\n",
    "    get_linear_schedule_with_warmup,\n",
    ")\n",
    "from tqdm import tqdm\n",
    "from sklearn.metrics import accuracy_score, precision_recall_fscore_support\n",
    "import matplotlib.pyplot as plt"
   ]
  },
  {
   "cell_type": "markdown",
   "metadata": {},
   "source": [
    "### Model and Tokenizer Setup"
   ]
  },
  {
   "cell_type": "code",
   "execution_count": 2,
   "metadata": {},
   "outputs": [
    {
     "data": {
      "application/vnd.jupyter.widget-view+json": {
       "model_id": "8473b2fd95b8478ca84aedd5f76e0586",
       "version_major": 2,
       "version_minor": 0
      },
      "text/plain": [
       "Loading checkpoint shards:   0%|          | 0/2 [00:00<?, ?it/s]"
      ]
     },
     "metadata": {},
     "output_type": "display_data"
    },
    {
     "name": "stderr",
     "output_type": "stream",
     "text": [
      "Some weights of LlamaForSequenceClassification were not initialized from the model checkpoint at meta-llama/Llama-2-7b-hf and are newly initialized: ['score.weight']\n",
      "You should probably TRAIN this model on a down-stream task to be able to use it for predictions and inference.\n"
     ]
    }
   ],
   "source": [
    "# Load the model and tokenizer\n",
    "model = AutoModelForSequenceClassification.from_pretrained(\"meta-llama/Llama-2-7b-hf\", num_labels=2)\n",
    "tokenizer = AutoTokenizer.from_pretrained(\"meta-llama/Llama-2-7b-hf\")\n",
    "\n",
    "# Check if the tokenizer has a padding token, if not, set one\n",
    "if tokenizer.pad_token is None:\n",
    "    tokenizer.pad_token = tokenizer.eos_token\n",
    "model.config.pad_token_id = tokenizer.pad_token_id\n"
   ]
  },
  {
   "cell_type": "markdown",
   "metadata": {},
   "source": [
    "### Load and Preprocess the Dataset"
   ]
  },
  {
   "cell_type": "code",
   "execution_count": 3,
   "metadata": {},
   "outputs": [],
   "source": [
    "# Load the dataset\n",
    "data = pd.read_csv(\"../Datasets/dataset_12500.csv\")\n",
    "\n",
    "# Separate features\n",
    "text_data = data[\"url\"]\n",
    "scaler = StandardScaler()\n",
    "\n",
    "\n",
    "# Tokenize text data\n",
    "max_length = 128\n",
    "tokenized_data = tokenizer(text_data.tolist(), padding=\"max_length\", truncation=True, max_length=max_length, return_tensors=\"pt\")\n",
    "X_text = tokenized_data[\"input_ids\"]\n",
    "\n",
    "# Labels\n",
    "y = data[\"label\"].apply(lambda x: 1 if x == \"bad\" else 0)\n",
    "\n",
    "# Split dataset\n",
    "X_train_text, X_test_text, y_train, y_test = train_test_split(X_text, y, test_size=0.2, random_state=42)"
   ]
  },
  {
   "cell_type": "markdown",
   "metadata": {},
   "source": [
    "### Dataset and DataLoader Setup"
   ]
  },
  {
   "cell_type": "code",
   "execution_count": 4,
   "metadata": {},
   "outputs": [],
   "source": [
    "# Create TensorDatasets\n",
    "train_dataset = TensorDataset(X_train_text,  torch.tensor(y_train.values, dtype=torch.long))\n",
    "test_dataset = TensorDataset(X_test_text, torch.tensor(y_test.values, dtype=torch.long))\n",
    "\n",
    "# Define collate function\n",
    "def collate_batch(batch):\n",
    "    texts,labels = zip(*batch)\n",
    "    texts = pad_sequence(texts, batch_first=True, padding_value=tokenizer.pad_token_id)\n",
    "    labels = torch.tensor(labels)\n",
    "    return texts, labels\n",
    "\n",
    "# DataLoader and training setup\n",
    "batch_size = 16\n",
    "train_loader = DataLoader(train_dataset, batch_size=batch_size, shuffle=True, collate_fn=collate_batch)\n",
    "test_loader = DataLoader(test_dataset, batch_size=batch_size)\n"
   ]
  },
  {
   "cell_type": "markdown",
   "metadata": {},
   "source": [
    "### Training Setup"
   ]
  },
  {
   "cell_type": "code",
   "execution_count": 5,
   "metadata": {},
   "outputs": [],
   "source": [
    "# Training settings\n",
    "device = torch.device(\"cpu\")\n",
    "model.to(device)\n",
    "optimizer = optim.AdamW(model.parameters(), lr=5e-5)\n",
    "epochs = 6\n",
    "scheduler = get_linear_schedule_with_warmup(optimizer, num_warmup_steps=0, num_training_steps=len(train_loader) * epochs)\n",
    "\n",
    "# Paths for saving model, tokenizer, and checkpoint\n",
    "model_save_path = \"../Model/savedModel/savedModel_12500\"\n",
    "tokenizer_save_path = \"../Model/savedTokenizer/savedModel_12500\"\n",
    "checkpoint_path = \"../Model/checkpoint.pth\""
   ]
  },
  {
   "cell_type": "markdown",
   "metadata": {},
   "source": [
    "### Save and Load Checkpoint Functions"
   ]
  },
  {
   "cell_type": "code",
   "execution_count": 6,
   "metadata": {},
   "outputs": [],
   "source": [
    "# Function to save a checkpoint\n",
    "def save_checkpoint(epoch, model, optimizer, scheduler):\n",
    "    checkpoint = {\n",
    "        'epoch': epoch,\n",
    "        'model_state_dict': model.state_dict(),\n",
    "        'optimizer_state_dict': optimizer.state_dict(),\n",
    "        'scheduler_state_dict': scheduler.state_dict()\n",
    "    }\n",
    "    torch.save(checkpoint, checkpoint_path)\n",
    "    model.save_pretrained(model_save_path)\n",
    "    tokenizer.save_pretrained(tokenizer_save_path)\n",
    "\n",
    "# Function to load a checkpoint\n",
    "def load_checkpoint(model, optimizer, scheduler):\n",
    "    if os.path.isfile(checkpoint_path):\n",
    "        checkpoint = torch.load(checkpoint_path)\n",
    "        model.load_state_dict(checkpoint['model_state_dict'])\n",
    "        optimizer.load_state_dict(checkpoint['optimizer_state_dict'])\n",
    "        scheduler.load_state_dict(checkpoint['scheduler_state_dict'])\n",
    "        return checkpoint['epoch']\n",
    "    else:\n",
    "        return 0\n",
    "\n",
    "# Load checkpoint if available\n",
    "start_epoch = load_checkpoint(model, optimizer, scheduler)"
   ]
  },
  {
   "cell_type": "markdown",
   "metadata": {},
   "source": [
    "### Training and Evaluation Loop"
   ]
  },
  {
   "cell_type": "code",
   "execution_count": 7,
   "metadata": {},
   "outputs": [
    {
     "name": "stderr",
     "output_type": "stream",
     "text": [
      "Epoch 1/6: 100%|██████████| 625/625 [15:28:47<00:00, 89.16s/it, loss=0.201]  \n",
      "                                                             \r"
     ]
    },
    {
     "name": "stdout",
     "output_type": "stream",
     "text": [
      "Test Accuracy: 0.9824\n",
      "Precision: 0.9755\n",
      "Recall: 0.9795\n",
      "F1 Score: 0.9775\n",
      "   Accuracy  Precision    Recall  F1 Score\n",
      "0  0.982407   0.975535  0.979529  0.977528\n"
     ]
    },
    {
     "name": "stderr",
     "output_type": "stream",
     "text": [
      "Epoch 2/6:   8%|▊         | 50/625 [1:14:02<13:57:38, 87.41s/it, loss=0.0377]"
     ]
    }
   ],
   "source": [
    "# Initialize lists to store metrics\n",
    "train_losses = []\n",
    "test_accuracies = []\n",
    "test_precisions = []\n",
    "test_recalls = []\n",
    "test_f1_scores = []\n",
    "\n",
    "# Training loop\n",
    "for epoch in range(start_epoch, epochs):\n",
    "    model.train()\n",
    "    total_loss = 0\n",
    "    progress_bar = tqdm(\n",
    "        enumerate(train_loader),\n",
    "        total=len(train_loader),\n",
    "        desc=f\"Epoch {epoch + 1}/{epochs}\",\n",
    "    )\n",
    "\n",
    "    for step, (texts, labels) in progress_bar:\n",
    "        texts = texts.to(device)\n",
    "        labels = labels.to(device)\n",
    "\n",
    "        model.zero_grad()\n",
    "        outputs = model(texts, labels=labels)\n",
    "        loss = outputs.loss\n",
    "        loss.backward()\n",
    "        optimizer.step()\n",
    "        scheduler.step()\n",
    "\n",
    "        total_loss += loss.item()\n",
    "        progress_bar.set_postfix({\"loss\": total_loss / (step + 1)})\n",
    "\n",
    "    average_loss = total_loss / len(train_loader)\n",
    "    train_losses.append(average_loss)\n",
    "\n",
    "    # Evaluation loop\n",
    "    model.eval()\n",
    "    predictions = []\n",
    "    true_labels = []\n",
    "    with torch.no_grad():\n",
    "        for texts, labels in tqdm(test_loader, desc=\"Evaluating\", leave=False):\n",
    "            texts = texts.to(device)\n",
    "            labels = labels.to(device)\n",
    "\n",
    "            outputs = model(texts, labels=labels)\n",
    "            logits = outputs.logits\n",
    "            _, predicted_labels = torch.max(logits, dim=1)\n",
    "\n",
    "            predictions.extend(predicted_labels.cpu().numpy())\n",
    "            true_labels.extend(labels.cpu().numpy())\n",
    "\n",
    "    accuracy = accuracy_score(true_labels, predictions)\n",
    "    precision, recall, f1, _ = precision_recall_fscore_support(\n",
    "        true_labels, predictions, average=\"binary\"\n",
    "    )\n",
    "\n",
    "    print(f\"Test Accuracy: {accuracy:.4f}\")\n",
    "    print(f\"Precision: {precision:.4f}\")\n",
    "    print(f\"Recall: {recall:.4f}\")\n",
    "    print(f\"F1 Score: {f1:.4f}\")\n",
    "\n",
    "    metrics_df = pd.DataFrame(\n",
    "        [[accuracy, precision, recall, f1]],\n",
    "        columns=[\"Accuracy\", \"Precision\", \"Recall\", \"F1 Score\"],\n",
    "    )\n",
    "    print(metrics_df)\n",
    "    \n",
    "\n",
    "    test_accuracies.append(accuracy)\n",
    "    test_precisions.append(precision)\n",
    "    test_recalls.append(recall)\n",
    "    test_f1_scores.append(f1)\n",
    "\n",
    "    # Save checkpoint after each epoch\n",
    "    save_checkpoint(epoch + 1, model, optimizer, scheduler)"
   ]
  },
  {
   "cell_type": "code",
   "execution_count": null,
   "metadata": {},
   "outputs": [],
   "source": [
    "print(f\"Test Accuracy: {accuracy:.4f}\")\n",
    "print(f\"Precision: {precision:.4f}\")\n",
    "print(f\"Recall: {recall:.4f}\")\n",
    "print(f\"F1 Score: {f1:.4f}\")\n",
    "\n",
    "metrics_df = pd.DataFrame(\n",
    "    [[accuracy, precision, recall, f1]],\n",
    "    columns=[\"Accuracy\", \"Precision\", \"Recall\", \"F1 Score\"],\n",
    ")\n",
    "print(metrics_df)\n",
    "metrics_df.to_csv(\"Evaluation_dataset_12500.csv\", index=False)"
   ]
  },
  {
   "cell_type": "markdown",
   "metadata": {},
   "source": [
    "### Plotting the Metrics"
   ]
  },
  {
   "cell_type": "code",
   "execution_count": null,
   "metadata": {},
   "outputs": [],
   "source": [
    "# Plotting\n",
    "plt.figure(figsize=(10, 6))\n",
    "epochs_range = range(1, epochs + 1)\n",
    "\n",
    "# Plot train loss\n",
    "plt.plot(epochs_range, train_losses, label='Train Loss')\n",
    "\n",
    "# Plot evaluation metrics\n",
    "plt.plot(epochs_range, test_accuracies, label='Test Accuracy')\n",
    "plt.plot(epochs_range, test_precisions, label='Test Precision')\n",
    "plt.plot(epochs_range, test_recalls, label='Test Recall')\n",
    "plt.plot(epochs_range, test_f1_scores, label='Test F1 Score')\n",
    "\n",
    "plt.xlabel('Epochs')\n",
    "plt.ylabel('Metrics')\n",
    "plt.title('Training and Test Metrics Over Epochs')\n",
    "plt.legend()\n",
    "plt.show()"
   ]
  }
 ],
 "metadata": {
  "kernelspec": {
   "display_name": "Python 3",
   "language": "python",
   "name": "python3"
  },
  "language_info": {
   "codemirror_mode": {
    "name": "ipython",
    "version": 3
   },
   "file_extension": ".py",
   "mimetype": "text/x-python",
   "name": "python",
   "nbconvert_exporter": "python",
   "pygments_lexer": "ipython3",
   "version": "3.11.7"
  }
 },
 "nbformat": 4,
 "nbformat_minor": 2
}
