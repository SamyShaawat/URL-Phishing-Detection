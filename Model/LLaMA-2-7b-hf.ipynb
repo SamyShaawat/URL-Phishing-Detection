{
 "cells": [
  {
   "cell_type": "code",
   "execution_count": 1,
   "metadata": {},
   "outputs": [],
   "source": [
    "import pandas as pd\n",
    "from sklearn.model_selection import train_test_split\n",
    "from sklearn.preprocessing import StandardScaler\n",
    "import torch\n",
    "from torch.utils.data import TensorDataset\n",
    "from torch.utils.data import DataLoader\n",
    "from transformers import AdamW, get_linear_schedule_with_warmup\n",
    "from sklearn.metrics import accuracy_score, precision_recall_fscore_support\n",
    "from transformers import AutoModelForSequenceClassification, AutoTokenizer\n",
    "from tqdm import tqdm\n",
    "from torch.nn.utils.rnn import pad_sequence\n",
    "import torch.optim as optim\n",
    "from torch.cuda.amp import GradScaler, autocast"
   ]
  },
  {
   "cell_type": "code",
   "execution_count": 2,
   "metadata": {},
   "outputs": [
    {
     "data": {
      "application/vnd.jupyter.widget-view+json": {
       "model_id": "23f2372d226840a5863725d008306017",
       "version_major": 2,
       "version_minor": 0
      },
      "text/plain": [
       "Loading checkpoint shards:   0%|          | 0/2 [00:00<?, ?it/s]"
      ]
     },
     "metadata": {},
     "output_type": "display_data"
    },
    {
     "name": "stderr",
     "output_type": "stream",
     "text": [
      "Some weights of LlamaForSequenceClassification were not initialized from the model checkpoint at meta-llama/Llama-2-7b-hf and are newly initialized: ['score.weight']\n",
      "You should probably TRAIN this model on a down-stream task to be able to use it for predictions and inference.\n"
     ]
    }
   ],
   "source": [
    "# Load the model and tokenizer\n",
    "model = AutoModelForSequenceClassification.from_pretrained(\n",
    "    \"meta-llama/Llama-2-7b-hf\", num_labels=2\n",
    ")\n",
    "tokenizer = AutoTokenizer.from_pretrained(\"meta-llama/Llama-2-7b-hf\")"
   ]
  },
  {
   "cell_type": "code",
   "execution_count": 3,
   "metadata": {},
   "outputs": [
    {
     "name": "stdout",
     "output_type": "stream",
     "text": [
      "Tokenizing text data...\n"
     ]
    },
    {
     "name": "stderr",
     "output_type": "stream",
     "text": [
      "100%|██████████| 10000/10000 [00:01<00:00, 6749.89it/s]\n"
     ]
    }
   ],
   "source": [
    "# Preprocessing step\n",
    "# Check if the tokenizer has a padding token, if not, set one\n",
    "if tokenizer.pad_token is None:\n",
    "    tokenizer.pad_token = tokenizer.eos_token\n",
    "# IMPORTANT: Update the model configuration to recognize the new padding token\n",
    "model.config.pad_token_id = tokenizer.pad_token_id\n",
    "\n",
    "# Load the dataset\n",
    "data = pd.read_csv(\"../Dataset_with_Features/dataset_10000.csv\")\n",
    "\n",
    "# Separate features\n",
    "text_data = data[\"url\"]\n",
    "numerical_data = data.drop(columns=[\"url\", \"label\"])\n",
    "\n",
    "# Preprocess numerical data\n",
    "scaler = StandardScaler()\n",
    "X_num = scaler.fit_transform(numerical_data)\n",
    "\n",
    "# Define a max_length for tokenization\n",
    "max_length = 128  # Example value, you should choose based on your data\n",
    "\n",
    "# Preprocess text data with a progress bar\n",
    "print(\"Tokenizing text data...\")\n",
    "tokenized_texts = []\n",
    "for text in tqdm(text_data.tolist()):\n",
    "    tokenized_text = tokenizer(\n",
    "        text,\n",
    "        padding=\"max_length\",\n",
    "        truncation=True,\n",
    "        max_length=max_length,\n",
    "        return_tensors=\"pt\",\n",
    "    )\n",
    "    tokenized_texts.append(tokenized_text[\"input_ids\"][0])\n",
    "\n",
    "# Make sure to tokenize with padding\n",
    "tokenized_data = tokenizer(\n",
    "    text_data.tolist(),\n",
    "    padding=\"max_length\",\n",
    "    truncation=True,\n",
    "    max_length=128,\n",
    "    return_tensors=\"pt\",\n",
    ")  # Adjust max_length as needed\n",
    "X_text = tokenized_data[\"input_ids\"]\n",
    "\n",
    "# Labels\n",
    "y = data[\"label\"].apply(lambda x: 1 if x == \"bad\" else 0)\n",
    "\n",
    "# Split dataset\n",
    "X_train_text, X_test_text, X_train_num, X_test_num, y_train, y_test = train_test_split(\n",
    "    X_text, X_num, y, test_size=0.2, random_state=42\n",
    ")\n",
    "\n",
    "# Create TensorDatasets\n",
    "train_dataset = TensorDataset(\n",
    "    X_train_text,\n",
    "    torch.tensor(X_train_num, dtype=torch.float),\n",
    "    torch.tensor(y_train.values, dtype=torch.long),\n",
    ")\n",
    "test_dataset = TensorDataset(\n",
    "    X_test_text,\n",
    "    torch.tensor(X_test_num, dtype=torch.float),\n",
    "    torch.tensor(y_test.values, dtype=torch.long),\n",
    ")"
   ]
  },
  {
   "cell_type": "code",
   "execution_count": 4,
   "metadata": {},
   "outputs": [],
   "source": [
    "# Define collate function\n",
    "def collate_batch(batch):\n",
    "    texts, nums, labels = zip(*batch)\n",
    "    texts = pad_sequence(texts, batch_first=True, padding_value=tokenizer.pad_token_id)\n",
    "    nums = torch.stack(nums)\n",
    "    labels = torch.tensor(labels)\n",
    "    return texts, nums, labels"
   ]
  },
  {
   "cell_type": "code",
   "execution_count": 5,
   "metadata": {},
   "outputs": [],
   "source": [
    "# DataLoader and training setup\n",
    "batch_size = 16\n",
    "epochs = 6\n",
    "train_loader = DataLoader(\n",
    "    train_dataset, batch_size=batch_size, shuffle=True, collate_fn=collate_batch\n",
    ")\n",
    "test_loader = DataLoader(test_dataset, batch_size=batch_size)"
   ]
  },
  {
   "cell_type": "code",
   "execution_count": 6,
   "metadata": {},
   "outputs": [],
   "source": [
    "# Training settings\n",
    "device = torch.device(\"cpu\")\n",
    "model.to(device)\n",
    "optimizer = optim.AdamW(model.parameters(), lr=5e-5)\n",
    "scheduler = get_linear_schedule_with_warmup(\n",
    "    optimizer, num_warmup_steps=0, num_training_steps=len(train_loader) * epochs\n",
    ")\n",
    "\n"
   ]
  },
  {
   "cell_type": "code",
   "execution_count": 7,
   "metadata": {},
   "outputs": [
    {
     "name": "stderr",
     "output_type": "stream",
     "text": [
      "Epoch 1/6:  40%|████      | 202/500 [4:49:18<7:00:40, 84.70s/it, loss=0.495]"
     ]
    }
   ],
   "source": [
    "# Training loop\n",
    "for epoch in range(epochs):\n",
    "    model.train()\n",
    "    total_loss = 0\n",
    "    progress_bar = tqdm(\n",
    "        enumerate(train_loader),\n",
    "        total=len(train_loader),\n",
    "        desc=f\"Epoch {epoch + 1}/{epochs}\",\n",
    "    )\n",
    "\n",
    "    for step, (texts, nums, labels) in progress_bar:\n",
    "        # Note: You need to modify this part to handle both text and numerical data\n",
    "        # Currently, it only feeds the text data to the model.\n",
    "        # Implementing a custom model that can handle both text and numerical data is required.\n",
    "\n",
    "        texts = texts.to(device)\n",
    "        labels = labels.to(device)\n",
    "\n",
    "        model.zero_grad()\n",
    "        outputs = model(texts, labels=labels)\n",
    "        loss = outputs.loss\n",
    "        loss.backward()\n",
    "        optimizer.step()\n",
    "        scheduler.step()\n",
    "\n",
    "        total_loss += loss.item()\n",
    "        progress_bar.set_postfix({\"loss\": total_loss / (step + 1)})\n",
    "\n",
    "    average_loss = total_loss / len(train_loader)\n",
    "    print(f\"Epoch {epoch+1}/{epochs} | Loss: {average_loss}\")\n",
    "\n",
    "\n"
   ]
  },
  {
   "cell_type": "code",
   "execution_count": null,
   "metadata": {},
   "outputs": [],
   "source": [
    "# Evaluation\n",
    "model.eval()\n",
    "all_predictions, all_true_labels = [], []\n",
    "with torch.no_grad():\n",
    "    for batch in test_loader:\n",
    "        batch = [item.to(device) for item in batch]\n",
    "        inputs, labels = batch\n",
    "        outputs = model(inputs)\n",
    "        logits = outputs.logits\n",
    "        predictions = torch.argmax(logits, dim=1).cpu().numpy()\n",
    "        labels = labels.cpu().numpy()\n",
    "        all_predictions.extend(predictions)\n",
    "        all_true_labels.extend(labels)\n",
    "\n",
    "accuracy = accuracy_score(all_true_labels, all_predictions)\n",
    "precision, recall, f1, _ = precision_recall_fscore_support(\n",
    "    all_true_labels, all_predictions, average=\"binary\"\n",
    ")\n",
    "metrics_df = pd.DataFrame(\n",
    "    [[accuracy, precision, recall, f1]],\n",
    "    columns=[\"Accuracy\", \"Precision\", \"Recall\", \"F1 Score\"],\n",
    ")\n",
    "print(metrics_df)\n",
    "\n",
    "# # Save the model and tokenizer\n",
    "# model.save_pretrained(\"path/to/save/model\")\n",
    "# tokenizer.save_pretrained(\"path/to/save/model\")"
   ]
  },
  {
   "cell_type": "code",
   "execution_count": null,
   "metadata": {},
   "outputs": [],
   "source": []
  }
 ],
 "metadata": {
  "kernelspec": {
   "display_name": "Python 3",
   "language": "python",
   "name": "python3"
  },
  "language_info": {
   "codemirror_mode": {
    "name": "ipython",
    "version": 3
   },
   "file_extension": ".py",
   "mimetype": "text/x-python",
   "name": "python",
   "nbconvert_exporter": "python",
   "pygments_lexer": "ipython3",
   "version": "3.11.7"
  }
 },
 "nbformat": 4,
 "nbformat_minor": 2
}
