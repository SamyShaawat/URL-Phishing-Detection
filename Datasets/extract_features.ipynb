{
 "cells": [
  {
   "cell_type": "code",
   "execution_count": 1,
   "metadata": {},
   "outputs": [],
   "source": [
    "import pandas as pd\n",
    "import re\n",
    "from urllib.parse import urlparse\n",
    "from googlesearch import search\n",
    "from urllib.parse import urlparse\n",
    "from tld import get_tld\n",
    "import os.path"
   ]
  },
  {
   "cell_type": "code",
   "execution_count": 2,
   "metadata": {},
   "outputs": [
    {
     "name": "stdout",
     "output_type": "stream",
     "text": [
      "(44988, 2)\n"
     ]
    }
   ],
   "source": [
    "df = pd.read_csv(\"../Dataset_with_Features/ourdataset_44989.csv\")\n",
    "print(df.shape)"
   ]
  },
  {
   "cell_type": "code",
   "execution_count": 3,
   "metadata": {},
   "outputs": [
    {
     "data": {
      "text/html": [
       "<div>\n",
       "<style scoped>\n",
       "    .dataframe tbody tr th:only-of-type {\n",
       "        vertical-align: middle;\n",
       "    }\n",
       "\n",
       "    .dataframe tbody tr th {\n",
       "        vertical-align: top;\n",
       "    }\n",
       "\n",
       "    .dataframe thead th {\n",
       "        text-align: right;\n",
       "    }\n",
       "</style>\n",
       "<table border=\"1\" class=\"dataframe\">\n",
       "  <thead>\n",
       "    <tr style=\"text-align: right;\">\n",
       "      <th></th>\n",
       "      <th>url</th>\n",
       "      <th>label</th>\n",
       "    </tr>\n",
       "  </thead>\n",
       "  <tbody>\n",
       "    <tr>\n",
       "      <th>0</th>\n",
       "      <td>https://pub-623ff13ca62f4e7db789f8b3dc34f463.r...</td>\n",
       "      <td>bad</td>\n",
       "    </tr>\n",
       "    <tr>\n",
       "      <th>1</th>\n",
       "      <td>https://docs.google.com/presentation/d/e/2PACX...</td>\n",
       "      <td>bad</td>\n",
       "    </tr>\n",
       "    <tr>\n",
       "      <th>2</th>\n",
       "      <td>https://mail.google.com/mail/u/2/#inbox/FMfcgz...</td>\n",
       "      <td>good</td>\n",
       "    </tr>\n",
       "    <tr>\n",
       "      <th>3</th>\n",
       "      <td>https://docs.google.com/presentation/d/e/2PACX...</td>\n",
       "      <td>bad</td>\n",
       "    </tr>\n",
       "    <tr>\n",
       "      <th>4</th>\n",
       "      <td>https://cloudflare-ipfs.com/ipfs/bafkreigb2h7f...</td>\n",
       "      <td>bad</td>\n",
       "    </tr>\n",
       "  </tbody>\n",
       "</table>\n",
       "</div>"
      ],
      "text/plain": [
       "                                                 url label\n",
       "0  https://pub-623ff13ca62f4e7db789f8b3dc34f463.r...   bad\n",
       "1  https://docs.google.com/presentation/d/e/2PACX...   bad\n",
       "2  https://mail.google.com/mail/u/2/#inbox/FMfcgz...  good\n",
       "3  https://docs.google.com/presentation/d/e/2PACX...   bad\n",
       "4  https://cloudflare-ipfs.com/ipfs/bafkreigb2h7f...   bad"
      ]
     },
     "execution_count": 3,
     "metadata": {},
     "output_type": "execute_result"
    }
   ],
   "source": [
    "df.head()"
   ]
  },
  {
   "cell_type": "code",
   "execution_count": 4,
   "metadata": {},
   "outputs": [],
   "source": [
    "# Use of IP or not in domain\n",
    "def having_ip_address(url):\n",
    "    match = re.search(\n",
    "        \"(([01]?\\\\d\\\\d?|2[0-4]\\\\d|25[0-5])\\\\.([01]?\\\\d\\\\d?|2[0-4]\\\\d|25[0-5])\\\\.([01]?\\\\d\\\\d?|2[0-4]\\\\d|25[0-5])\\\\.\"\n",
    "        \"([01]?\\\\d\\\\d?|2[0-4]\\\\d|25[0-5])\\\\/)|\"  # IPv4\n",
    "        \"((0x[0-9a-fA-F]{1,2})\\\\.(0x[0-9a-fA-F]{1,2})\\\\.(0x[0-9a-fA-F]{1,2})\\\\.(0x[0-9a-fA-F]{1,2})\\\\/)\"  # IPv4 in hexadecimal\n",
    "        \"(?:[a-fA-F0-9]{1,4}:){7}[a-fA-F0-9]{1,4}\",\n",
    "        url,\n",
    "    )  # Ipv6\n",
    "    if match:\n",
    "        # print match.group()\n",
    "        return 1\n",
    "    else:\n",
    "        # print 'No matching pattern found'\n",
    "        return 0"
   ]
  },
  {
   "cell_type": "code",
   "execution_count": 5,
   "metadata": {},
   "outputs": [],
   "source": [
    "df[\"use_of_ip\"] = df[\"url\"].apply(lambda i: having_ip_address(i))"
   ]
  },
  {
   "cell_type": "code",
   "execution_count": 6,
   "metadata": {},
   "outputs": [],
   "source": [
    "def abnormal_url(url):\n",
    "    hostname = urlparse(url).hostname\n",
    "    hostname = str(hostname)\n",
    "    match = re.search(hostname, url)\n",
    "    if match:\n",
    "        # print match.group()\n",
    "        return 1\n",
    "    else:\n",
    "        # print 'No matching pattern found'\n",
    "        return 0"
   ]
  },
  {
   "cell_type": "code",
   "execution_count": 7,
   "metadata": {},
   "outputs": [],
   "source": [
    "df[\"abnormal_url\"] = df[\"url\"].apply(lambda i: abnormal_url(i))"
   ]
  },
  {
   "cell_type": "code",
   "execution_count": 8,
   "metadata": {},
   "outputs": [],
   "source": [
    "def google_index(url):\n",
    "    site = search(url, 5)\n",
    "    return 1 if site else 0"
   ]
  },
  {
   "cell_type": "code",
   "execution_count": 9,
   "metadata": {},
   "outputs": [],
   "source": [
    "df[\"google_index\"] = df[\"url\"].apply(lambda i: google_index(i))"
   ]
  },
  {
   "cell_type": "code",
   "execution_count": 10,
   "metadata": {},
   "outputs": [],
   "source": [
    "def count_dot(url):\n",
    "    count_dot = url.count(\".\")\n",
    "    return count_dot"
   ]
  },
  {
   "cell_type": "code",
   "execution_count": 11,
   "metadata": {},
   "outputs": [],
   "source": [
    "df[\"count.\"] = df[\"url\"].apply(lambda i: count_dot(i))"
   ]
  },
  {
   "cell_type": "code",
   "execution_count": 12,
   "metadata": {},
   "outputs": [],
   "source": [
    "def count_www(url):\n",
    "    url.count(\"www\")\n",
    "    return url.count(\"www\")"
   ]
  },
  {
   "cell_type": "code",
   "execution_count": 13,
   "metadata": {},
   "outputs": [],
   "source": [
    "df[\"count-www\"] = df[\"url\"].apply(lambda i: count_www(i))"
   ]
  },
  {
   "cell_type": "code",
   "execution_count": 14,
   "metadata": {},
   "outputs": [],
   "source": [
    "def count_atrate(url):\n",
    "    return url.count(\"@\")"
   ]
  },
  {
   "cell_type": "code",
   "execution_count": 15,
   "metadata": {},
   "outputs": [],
   "source": [
    "df[\"count@\"] = df[\"url\"].apply(lambda i: count_atrate(i))"
   ]
  },
  {
   "cell_type": "code",
   "execution_count": 16,
   "metadata": {},
   "outputs": [],
   "source": [
    "def no_of_dir(url):\n",
    "    urldir = urlparse(url).path\n",
    "    return urldir.count(\"/\")"
   ]
  },
  {
   "cell_type": "code",
   "execution_count": 17,
   "metadata": {},
   "outputs": [],
   "source": [
    "df[\"count_dir\"] = df[\"url\"].apply(lambda i: no_of_dir(i))"
   ]
  },
  {
   "cell_type": "code",
   "execution_count": 18,
   "metadata": {},
   "outputs": [],
   "source": [
    "def no_of_embed(url):\n",
    "    urldir = urlparse(url).path\n",
    "    return urldir.count(\"//\")"
   ]
  },
  {
   "cell_type": "code",
   "execution_count": 19,
   "metadata": {},
   "outputs": [],
   "source": [
    "df[\"count_embed_domian\"] = df[\"url\"].apply(lambda i: no_of_embed(i))"
   ]
  },
  {
   "cell_type": "code",
   "execution_count": 20,
   "metadata": {},
   "outputs": [],
   "source": [
    "def shortening_service(url):\n",
    "    match = re.search(\n",
    "        \"bit\\.ly|goo\\.gl|shorte\\.st|go2l\\.ink|x\\.co|ow\\.ly|t\\.co|tinyurl|tr\\.im|is\\.gd|cli\\.gs|\"\n",
    "        \"yfrog\\.com|migre\\.me|ff\\.im|tiny\\.cc|url4\\.eu|twit\\.ac|su\\.pr|twurl\\.nl|snipurl\\.com|\"\n",
    "        \"short\\.to|BudURL\\.com|ping\\.fm|post\\.ly|Just\\.as|bkite\\.com|snipr\\.com|fic\\.kr|loopt\\.us|\"\n",
    "        \"doiop\\.com|short\\.ie|kl\\.am|wp\\.me|rubyurl\\.com|om\\.ly|to\\.ly|bit\\.do|t\\.co|lnkd\\.in|\"\n",
    "        \"db\\.tt|qr\\.ae|adf\\.ly|goo\\.gl|bitly\\.com|cur\\.lv|tinyurl\\.com|ow\\.ly|bit\\.ly|ity\\.im|\"\n",
    "        \"q\\.gs|is\\.gd|po\\.st|bc\\.vc|twitthis\\.com|u\\.to|j\\.mp|buzurl\\.com|cutt\\.us|u\\.bb|yourls\\.org|\"\n",
    "        \"x\\.co|prettylinkpro\\.com|scrnch\\.me|filoops\\.info|vzturl\\.com|qr\\.net|1url\\.com|tweez\\.me|v\\.gd|\"\n",
    "        \"tr\\.im|link\\.zip\\.net\",\n",
    "        url,\n",
    "    )\n",
    "    if match:\n",
    "        return 1\n",
    "    else:\n",
    "        return 0"
   ]
  },
  {
   "cell_type": "code",
   "execution_count": 21,
   "metadata": {},
   "outputs": [],
   "source": [
    "df[\"short_url\"] = df[\"url\"].apply(lambda i: shortening_service(i))"
   ]
  },
  {
   "cell_type": "code",
   "execution_count": 22,
   "metadata": {},
   "outputs": [],
   "source": [
    "def count_https(url):\n",
    "    return url.count(\"https\")"
   ]
  },
  {
   "cell_type": "code",
   "execution_count": 23,
   "metadata": {},
   "outputs": [],
   "source": [
    "df[\"count-https\"] = df[\"url\"].apply(lambda i: count_https(i))"
   ]
  },
  {
   "cell_type": "code",
   "execution_count": 24,
   "metadata": {},
   "outputs": [],
   "source": [
    "def count_http(url):\n",
    "    return url.count(\"http\")"
   ]
  },
  {
   "cell_type": "code",
   "execution_count": 25,
   "metadata": {},
   "outputs": [],
   "source": [
    "df[\"count-http\"] = df[\"url\"].apply(lambda i: count_http(i))"
   ]
  },
  {
   "cell_type": "code",
   "execution_count": 26,
   "metadata": {},
   "outputs": [],
   "source": [
    "def count_per(url):\n",
    "    return url.count(\"%\")"
   ]
  },
  {
   "cell_type": "code",
   "execution_count": 27,
   "metadata": {},
   "outputs": [],
   "source": [
    "df[\"count%\"] = df[\"url\"].apply(lambda i: count_per(i))"
   ]
  },
  {
   "cell_type": "code",
   "execution_count": 28,
   "metadata": {},
   "outputs": [],
   "source": [
    "def count_ques(url):\n",
    "    return url.count(\"?\")"
   ]
  },
  {
   "cell_type": "code",
   "execution_count": 29,
   "metadata": {},
   "outputs": [],
   "source": [
    "df[\"count?\"] = df[\"url\"].apply(lambda i: count_ques(i))"
   ]
  },
  {
   "cell_type": "code",
   "execution_count": 30,
   "metadata": {},
   "outputs": [],
   "source": [
    "def count_hyphen(url):\n",
    "    return url.count(\"-\")\n"
   ]
  },
  {
   "cell_type": "code",
   "execution_count": 31,
   "metadata": {},
   "outputs": [],
   "source": [
    "df[\"count-\"] = df[\"url\"].apply(lambda i: count_hyphen(i))"
   ]
  },
  {
   "cell_type": "code",
   "execution_count": 32,
   "metadata": {},
   "outputs": [],
   "source": [
    "def count_equal(url):\n",
    "    return url.count(\"=\")"
   ]
  },
  {
   "cell_type": "code",
   "execution_count": 33,
   "metadata": {},
   "outputs": [],
   "source": [
    "df[\"count=\"] = df[\"url\"].apply(lambda i: count_equal(i))"
   ]
  },
  {
   "cell_type": "code",
   "execution_count": 34,
   "metadata": {},
   "outputs": [],
   "source": [
    "def url_length(url):\n",
    "    return len(str(url))"
   ]
  },
  {
   "cell_type": "code",
   "execution_count": 35,
   "metadata": {},
   "outputs": [],
   "source": [
    "# Length of URL\n",
    "df[\"url_length\"] = df[\"url\"].apply(lambda i: url_length(i))"
   ]
  },
  {
   "cell_type": "code",
   "execution_count": 36,
   "metadata": {},
   "outputs": [],
   "source": [
    "# Hostname Length\n",
    "def hostname_length(url):\n",
    "    return len(urlparse(url).netloc)"
   ]
  },
  {
   "cell_type": "code",
   "execution_count": 37,
   "metadata": {},
   "outputs": [
    {
     "data": {
      "text/html": [
       "<div>\n",
       "<style scoped>\n",
       "    .dataframe tbody tr th:only-of-type {\n",
       "        vertical-align: middle;\n",
       "    }\n",
       "\n",
       "    .dataframe tbody tr th {\n",
       "        vertical-align: top;\n",
       "    }\n",
       "\n",
       "    .dataframe thead th {\n",
       "        text-align: right;\n",
       "    }\n",
       "</style>\n",
       "<table border=\"1\" class=\"dataframe\">\n",
       "  <thead>\n",
       "    <tr style=\"text-align: right;\">\n",
       "      <th></th>\n",
       "      <th>url</th>\n",
       "      <th>label</th>\n",
       "      <th>use_of_ip</th>\n",
       "      <th>abnormal_url</th>\n",
       "      <th>google_index</th>\n",
       "      <th>count.</th>\n",
       "      <th>count-www</th>\n",
       "      <th>count@</th>\n",
       "      <th>count_dir</th>\n",
       "      <th>count_embed_domian</th>\n",
       "      <th>short_url</th>\n",
       "      <th>count-https</th>\n",
       "      <th>count-http</th>\n",
       "      <th>count%</th>\n",
       "      <th>count?</th>\n",
       "      <th>count-</th>\n",
       "      <th>count=</th>\n",
       "      <th>url_length</th>\n",
       "      <th>hostname_length</th>\n",
       "    </tr>\n",
       "  </thead>\n",
       "  <tbody>\n",
       "    <tr>\n",
       "      <th>0</th>\n",
       "      <td>https://pub-623ff13ca62f4e7db789f8b3dc34f463.r...</td>\n",
       "      <td>bad</td>\n",
       "      <td>0</td>\n",
       "      <td>1</td>\n",
       "      <td>1</td>\n",
       "      <td>3</td>\n",
       "      <td>0</td>\n",
       "      <td>0</td>\n",
       "      <td>1</td>\n",
       "      <td>0</td>\n",
       "      <td>0</td>\n",
       "      <td>1</td>\n",
       "      <td>1</td>\n",
       "      <td>0</td>\n",
       "      <td>0</td>\n",
       "      <td>1</td>\n",
       "      <td>0</td>\n",
       "      <td>61</td>\n",
       "      <td>43</td>\n",
       "    </tr>\n",
       "    <tr>\n",
       "      <th>1</th>\n",
       "      <td>https://docs.google.com/presentation/d/e/2PACX...</td>\n",
       "      <td>bad</td>\n",
       "      <td>0</td>\n",
       "      <td>1</td>\n",
       "      <td>1</td>\n",
       "      <td>3</td>\n",
       "      <td>0</td>\n",
       "      <td>0</td>\n",
       "      <td>5</td>\n",
       "      <td>0</td>\n",
       "      <td>0</td>\n",
       "      <td>1</td>\n",
       "      <td>1</td>\n",
       "      <td>0</td>\n",
       "      <td>1</td>\n",
       "      <td>2</td>\n",
       "      <td>4</td>\n",
       "      <td>178</td>\n",
       "      <td>15</td>\n",
       "    </tr>\n",
       "    <tr>\n",
       "      <th>2</th>\n",
       "      <td>https://mail.google.com/mail/u/2/#inbox/FMfcgz...</td>\n",
       "      <td>good</td>\n",
       "      <td>0</td>\n",
       "      <td>1</td>\n",
       "      <td>1</td>\n",
       "      <td>2</td>\n",
       "      <td>0</td>\n",
       "      <td>0</td>\n",
       "      <td>4</td>\n",
       "      <td>0</td>\n",
       "      <td>0</td>\n",
       "      <td>1</td>\n",
       "      <td>1</td>\n",
       "      <td>0</td>\n",
       "      <td>0</td>\n",
       "      <td>0</td>\n",
       "      <td>0</td>\n",
       "      <td>72</td>\n",
       "      <td>15</td>\n",
       "    </tr>\n",
       "    <tr>\n",
       "      <th>3</th>\n",
       "      <td>https://docs.google.com/presentation/d/e/2PACX...</td>\n",
       "      <td>bad</td>\n",
       "      <td>0</td>\n",
       "      <td>1</td>\n",
       "      <td>1</td>\n",
       "      <td>2</td>\n",
       "      <td>0</td>\n",
       "      <td>0</td>\n",
       "      <td>5</td>\n",
       "      <td>0</td>\n",
       "      <td>0</td>\n",
       "      <td>1</td>\n",
       "      <td>1</td>\n",
       "      <td>0</td>\n",
       "      <td>1</td>\n",
       "      <td>2</td>\n",
       "      <td>3</td>\n",
       "      <td>167</td>\n",
       "      <td>15</td>\n",
       "    </tr>\n",
       "    <tr>\n",
       "      <th>4</th>\n",
       "      <td>https://cloudflare-ipfs.com/ipfs/bafkreigb2h7f...</td>\n",
       "      <td>bad</td>\n",
       "      <td>0</td>\n",
       "      <td>1</td>\n",
       "      <td>1</td>\n",
       "      <td>1</td>\n",
       "      <td>0</td>\n",
       "      <td>0</td>\n",
       "      <td>2</td>\n",
       "      <td>0</td>\n",
       "      <td>0</td>\n",
       "      <td>1</td>\n",
       "      <td>1</td>\n",
       "      <td>0</td>\n",
       "      <td>0</td>\n",
       "      <td>1</td>\n",
       "      <td>0</td>\n",
       "      <td>92</td>\n",
       "      <td>19</td>\n",
       "    </tr>\n",
       "  </tbody>\n",
       "</table>\n",
       "</div>"
      ],
      "text/plain": [
       "                                                 url label  use_of_ip   \n",
       "0  https://pub-623ff13ca62f4e7db789f8b3dc34f463.r...   bad          0  \\\n",
       "1  https://docs.google.com/presentation/d/e/2PACX...   bad          0   \n",
       "2  https://mail.google.com/mail/u/2/#inbox/FMfcgz...  good          0   \n",
       "3  https://docs.google.com/presentation/d/e/2PACX...   bad          0   \n",
       "4  https://cloudflare-ipfs.com/ipfs/bafkreigb2h7f...   bad          0   \n",
       "\n",
       "   abnormal_url  google_index  count.  count-www  count@  count_dir   \n",
       "0             1             1       3          0       0          1  \\\n",
       "1             1             1       3          0       0          5   \n",
       "2             1             1       2          0       0          4   \n",
       "3             1             1       2          0       0          5   \n",
       "4             1             1       1          0       0          2   \n",
       "\n",
       "   count_embed_domian  short_url  count-https  count-http  count%  count?   \n",
       "0                   0          0            1           1       0       0  \\\n",
       "1                   0          0            1           1       0       1   \n",
       "2                   0          0            1           1       0       0   \n",
       "3                   0          0            1           1       0       1   \n",
       "4                   0          0            1           1       0       0   \n",
       "\n",
       "   count-  count=  url_length  hostname_length  \n",
       "0       1       0          61               43  \n",
       "1       2       4         178               15  \n",
       "2       0       0          72               15  \n",
       "3       2       3         167               15  \n",
       "4       1       0          92               19  "
      ]
     },
     "execution_count": 37,
     "metadata": {},
     "output_type": "execute_result"
    }
   ],
   "source": [
    "df[\"hostname_length\"] = df[\"url\"].apply(lambda i: hostname_length(i))\n",
    "df.head()"
   ]
  },
  {
   "cell_type": "code",
   "execution_count": 38,
   "metadata": {},
   "outputs": [],
   "source": [
    "def suspicious_words(url):\n",
    "    match = re.search(\n",
    "        \"PayPal|login|signin|bank|account|update|free|lucky|service|bonus|ebayisapi|webscr\",\n",
    "        url,\n",
    "    )\n",
    "    if match:\n",
    "        return 1\n",
    "    else:\n",
    "        return 0"
   ]
  },
  {
   "cell_type": "code",
   "execution_count": 39,
   "metadata": {},
   "outputs": [],
   "source": [
    "df[\"sus_url\"] = df[\"url\"].apply(lambda i: suspicious_words(i))"
   ]
  },
  {
   "cell_type": "code",
   "execution_count": 40,
   "metadata": {},
   "outputs": [],
   "source": [
    "def digit_count(url):\n",
    "    digits = 0\n",
    "    for i in url:\n",
    "        if i.isnumeric():\n",
    "            digits = digits + 1\n",
    "    return digits"
   ]
  },
  {
   "cell_type": "code",
   "execution_count": 41,
   "metadata": {},
   "outputs": [],
   "source": [
    "df[\"count-digits\"] = df[\"url\"].apply(lambda i: digit_count(i))"
   ]
  },
  {
   "cell_type": "code",
   "execution_count": 42,
   "metadata": {},
   "outputs": [],
   "source": [
    "def letter_count(url):\n",
    "    letters = 0\n",
    "    for i in url:\n",
    "        if i.isalpha():\n",
    "            letters = letters + 1\n",
    "    return letters"
   ]
  },
  {
   "cell_type": "code",
   "execution_count": 43,
   "metadata": {},
   "outputs": [],
   "source": [
    "df[\"count-letters\"] = df[\"url\"].apply(lambda i: letter_count(i))"
   ]
  },
  {
   "cell_type": "code",
   "execution_count": 44,
   "metadata": {},
   "outputs": [],
   "source": [
    "# First Directory Length\n",
    "def fd_length(url):\n",
    "    urlpath = urlparse(url).path\n",
    "    try:\n",
    "        return len(urlpath.split(\"/\")[1])\n",
    "    except:\n",
    "        return 0"
   ]
  },
  {
   "cell_type": "code",
   "execution_count": 45,
   "metadata": {},
   "outputs": [],
   "source": [
    "df[\"fd_length\"] = df[\"url\"].apply(lambda i: fd_length(i))\n",
    "# Length of Top Level Domain\n",
    "df[\"tld\"] = df[\"url\"].apply(lambda i: get_tld(i, fail_silently=True))"
   ]
  },
  {
   "cell_type": "code",
   "execution_count": 46,
   "metadata": {},
   "outputs": [],
   "source": [
    "def tld_length(tld):\n",
    "    try:\n",
    "        return len(tld)\n",
    "    except:\n",
    "        return -1"
   ]
  },
  {
   "cell_type": "code",
   "execution_count": 47,
   "metadata": {},
   "outputs": [],
   "source": [
    "df[\"tld_length\"] = df[\"tld\"].apply(lambda i: tld_length(i))"
   ]
  },
  {
   "cell_type": "code",
   "execution_count": 48,
   "metadata": {},
   "outputs": [
    {
     "data": {
      "text/html": [
       "<div>\n",
       "<style scoped>\n",
       "    .dataframe tbody tr th:only-of-type {\n",
       "        vertical-align: middle;\n",
       "    }\n",
       "\n",
       "    .dataframe tbody tr th {\n",
       "        vertical-align: top;\n",
       "    }\n",
       "\n",
       "    .dataframe thead th {\n",
       "        text-align: right;\n",
       "    }\n",
       "</style>\n",
       "<table border=\"1\" class=\"dataframe\">\n",
       "  <thead>\n",
       "    <tr style=\"text-align: right;\">\n",
       "      <th></th>\n",
       "      <th>url</th>\n",
       "      <th>label</th>\n",
       "      <th>use_of_ip</th>\n",
       "      <th>abnormal_url</th>\n",
       "      <th>google_index</th>\n",
       "      <th>count.</th>\n",
       "      <th>count-www</th>\n",
       "      <th>count@</th>\n",
       "      <th>count_dir</th>\n",
       "      <th>count_embed_domian</th>\n",
       "      <th>...</th>\n",
       "      <th>count-</th>\n",
       "      <th>count=</th>\n",
       "      <th>url_length</th>\n",
       "      <th>hostname_length</th>\n",
       "      <th>sus_url</th>\n",
       "      <th>count-digits</th>\n",
       "      <th>count-letters</th>\n",
       "      <th>fd_length</th>\n",
       "      <th>tld</th>\n",
       "      <th>tld_length</th>\n",
       "    </tr>\n",
       "  </thead>\n",
       "  <tbody>\n",
       "    <tr>\n",
       "      <th>0</th>\n",
       "      <td>https://pub-623ff13ca62f4e7db789f8b3dc34f463.r...</td>\n",
       "      <td>bad</td>\n",
       "      <td>0</td>\n",
       "      <td>1</td>\n",
       "      <td>1</td>\n",
       "      <td>3</td>\n",
       "      <td>0</td>\n",
       "      <td>0</td>\n",
       "      <td>1</td>\n",
       "      <td>0</td>\n",
       "      <td>...</td>\n",
       "      <td>1</td>\n",
       "      <td>0</td>\n",
       "      <td>61</td>\n",
       "      <td>43</td>\n",
       "      <td>0</td>\n",
       "      <td>20</td>\n",
       "      <td>33</td>\n",
       "      <td>9</td>\n",
       "      <td>r2.dev</td>\n",
       "      <td>6</td>\n",
       "    </tr>\n",
       "    <tr>\n",
       "      <th>1</th>\n",
       "      <td>https://docs.google.com/presentation/d/e/2PACX...</td>\n",
       "      <td>bad</td>\n",
       "      <td>0</td>\n",
       "      <td>1</td>\n",
       "      <td>1</td>\n",
       "      <td>3</td>\n",
       "      <td>0</td>\n",
       "      <td>0</td>\n",
       "      <td>5</td>\n",
       "      <td>0</td>\n",
       "      <td>...</td>\n",
       "      <td>2</td>\n",
       "      <td>4</td>\n",
       "      <td>178</td>\n",
       "      <td>15</td>\n",
       "      <td>0</td>\n",
       "      <td>23</td>\n",
       "      <td>134</td>\n",
       "      <td>12</td>\n",
       "      <td>com</td>\n",
       "      <td>3</td>\n",
       "    </tr>\n",
       "    <tr>\n",
       "      <th>2</th>\n",
       "      <td>https://mail.google.com/mail/u/2/#inbox/FMfcgz...</td>\n",
       "      <td>good</td>\n",
       "      <td>0</td>\n",
       "      <td>1</td>\n",
       "      <td>1</td>\n",
       "      <td>2</td>\n",
       "      <td>0</td>\n",
       "      <td>0</td>\n",
       "      <td>4</td>\n",
       "      <td>0</td>\n",
       "      <td>...</td>\n",
       "      <td>0</td>\n",
       "      <td>0</td>\n",
       "      <td>72</td>\n",
       "      <td>15</td>\n",
       "      <td>0</td>\n",
       "      <td>1</td>\n",
       "      <td>60</td>\n",
       "      <td>4</td>\n",
       "      <td>com</td>\n",
       "      <td>3</td>\n",
       "    </tr>\n",
       "    <tr>\n",
       "      <th>3</th>\n",
       "      <td>https://docs.google.com/presentation/d/e/2PACX...</td>\n",
       "      <td>bad</td>\n",
       "      <td>0</td>\n",
       "      <td>1</td>\n",
       "      <td>1</td>\n",
       "      <td>2</td>\n",
       "      <td>0</td>\n",
       "      <td>0</td>\n",
       "      <td>5</td>\n",
       "      <td>0</td>\n",
       "      <td>...</td>\n",
       "      <td>2</td>\n",
       "      <td>3</td>\n",
       "      <td>167</td>\n",
       "      <td>15</td>\n",
       "      <td>0</td>\n",
       "      <td>26</td>\n",
       "      <td>121</td>\n",
       "      <td>12</td>\n",
       "      <td>com</td>\n",
       "      <td>3</td>\n",
       "    </tr>\n",
       "    <tr>\n",
       "      <th>4</th>\n",
       "      <td>https://cloudflare-ipfs.com/ipfs/bafkreigb2h7f...</td>\n",
       "      <td>bad</td>\n",
       "      <td>0</td>\n",
       "      <td>1</td>\n",
       "      <td>1</td>\n",
       "      <td>1</td>\n",
       "      <td>0</td>\n",
       "      <td>0</td>\n",
       "      <td>2</td>\n",
       "      <td>0</td>\n",
       "      <td>...</td>\n",
       "      <td>1</td>\n",
       "      <td>0</td>\n",
       "      <td>92</td>\n",
       "      <td>19</td>\n",
       "      <td>0</td>\n",
       "      <td>16</td>\n",
       "      <td>69</td>\n",
       "      <td>4</td>\n",
       "      <td>cloudflare-ipfs.com</td>\n",
       "      <td>19</td>\n",
       "    </tr>\n",
       "  </tbody>\n",
       "</table>\n",
       "<p>5 rows × 25 columns</p>\n",
       "</div>"
      ],
      "text/plain": [
       "                                                 url label  use_of_ip   \n",
       "0  https://pub-623ff13ca62f4e7db789f8b3dc34f463.r...   bad          0  \\\n",
       "1  https://docs.google.com/presentation/d/e/2PACX...   bad          0   \n",
       "2  https://mail.google.com/mail/u/2/#inbox/FMfcgz...  good          0   \n",
       "3  https://docs.google.com/presentation/d/e/2PACX...   bad          0   \n",
       "4  https://cloudflare-ipfs.com/ipfs/bafkreigb2h7f...   bad          0   \n",
       "\n",
       "   abnormal_url  google_index  count.  count-www  count@  count_dir   \n",
       "0             1             1       3          0       0          1  \\\n",
       "1             1             1       3          0       0          5   \n",
       "2             1             1       2          0       0          4   \n",
       "3             1             1       2          0       0          5   \n",
       "4             1             1       1          0       0          2   \n",
       "\n",
       "   count_embed_domian  ...  count-  count=  url_length  hostname_length   \n",
       "0                   0  ...       1       0          61               43  \\\n",
       "1                   0  ...       2       4         178               15   \n",
       "2                   0  ...       0       0          72               15   \n",
       "3                   0  ...       2       3         167               15   \n",
       "4                   0  ...       1       0          92               19   \n",
       "\n",
       "   sus_url  count-digits  count-letters  fd_length                  tld   \n",
       "0        0            20             33          9               r2.dev  \\\n",
       "1        0            23            134         12                  com   \n",
       "2        0             1             60          4                  com   \n",
       "3        0            26            121         12                  com   \n",
       "4        0            16             69          4  cloudflare-ipfs.com   \n",
       "\n",
       "   tld_length  \n",
       "0           6  \n",
       "1           3  \n",
       "2           3  \n",
       "3           3  \n",
       "4          19  \n",
       "\n",
       "[5 rows x 25 columns]"
      ]
     },
     "execution_count": 48,
     "metadata": {},
     "output_type": "execute_result"
    }
   ],
   "source": [
    "df.head()"
   ]
  },
  {
   "cell_type": "code",
   "execution_count": 49,
   "metadata": {},
   "outputs": [],
   "source": [
    "df.to_csv(\"ourdataset_44989.csv\", index=False)"
   ]
  }
 ],
 "metadata": {
  "kernelspec": {
   "display_name": "Python 3",
   "language": "python",
   "name": "python3"
  },
  "language_info": {
   "codemirror_mode": {
    "name": "ipython",
    "version": 3
   },
   "file_extension": ".py",
   "mimetype": "text/x-python",
   "name": "python",
   "nbconvert_exporter": "python",
   "pygments_lexer": "ipython3",
   "version": "3.11.6"
  }
 },
 "nbformat": 4,
 "nbformat_minor": 2
}
